{
 "cells": [
  {
   "cell_type": "code",
   "execution_count": 4,
   "id": "4cf0510e-6a34-4d74-b6ed-402ab9540c2f",
   "metadata": {},
   "outputs": [
    {
     "name": "stdout",
     "output_type": "stream",
     "text": [
      "Collecting xgboost\n",
      "  Downloading xgboost-3.0.2-py3-none-macosx_10_15_x86_64.whl.metadata (2.1 kB)\n",
      "Requirement already satisfied: numpy in /opt/anaconda3/lib/python3.12/site-packages (from xgboost) (1.26.4)\n",
      "Requirement already satisfied: scipy in /opt/anaconda3/lib/python3.12/site-packages (from xgboost) (1.15.2)\n",
      "Downloading xgboost-3.0.2-py3-none-macosx_10_15_x86_64.whl (2.2 MB)\n",
      "\u001b[2K   \u001b[90m━━━━━━━━━━━━━━━━━━━━━━━━━━━━━━━━━━━━━━━━\u001b[0m \u001b[32m2.2/2.2 MB\u001b[0m \u001b[31m5.2 MB/s\u001b[0m eta \u001b[36m0:00:00\u001b[0ma \u001b[36m0:00:01\u001b[0m\n",
      "\u001b[?25hInstalling collected packages: xgboost\n",
      "Successfully installed xgboost-3.0.2\n",
      "Note: you may need to restart the kernel to use updated packages.\n"
     ]
    }
   ],
   "source": [
    "pip install xgboost"
   ]
  },
  {
   "cell_type": "code",
   "execution_count": 5,
   "id": "690288f6-d336-4e96-8f9f-9d84d760e4ac",
   "metadata": {},
   "outputs": [],
   "source": [
    "import numpy as np\n",
    "import pandas as pd\n",
    "from sklearn.preprocessing import StandardScaler\n",
    "from sklearn.model_selection import train_test_split\n",
    "from sklearn.metrics import roc_auc_score, classification_report\n",
    "import xgboost as xgb\n",
    "import matplotlib.pyplot as plt"
   ]
  },
  {
   "cell_type": "markdown",
   "id": "07190257-8f23-4b2b-955b-3615f58c40aa",
   "metadata": {},
   "source": [
    "### Data Simulation"
   ]
  },
  {
   "cell_type": "code",
   "execution_count": 6,
   "id": "6747a13f-fc30-4ab4-a1bd-7d9bf357f109",
   "metadata": {},
   "outputs": [],
   "source": [
    "np.random.seed(42)\n",
    "n_samples = 1000\n",
    "\n",
    "# Simulate features\n",
    "df = pd.DataFrame({\n",
    "    'interest_rate': np.random.uniform(2.5, 6.5, n_samples),\n",
    "    'credit_score': np.random.normal(700, 50, n_samples),\n",
    "    'ltv': np.random.uniform(60, 100, n_samples),\n",
    "    'loan_term': np.random.choice([15, 30], n_samples),\n",
    "    'income': np.random.normal(75000, 15000, n_samples)\n",
    "})\n",
    "\n",
    "df['credit_score'] = df['credit_score'].clip(300, 850)\n",
    "df['income'] = df['income'].clip(20000, 200000)"
   ]
  },
  {
   "cell_type": "markdown",
   "id": "356a01cf-bea2-4c1b-b6e0-5e99512acbbd",
   "metadata": {},
   "source": [
    "### Model Equation Entries"
   ]
  },
  {
   "cell_type": "code",
   "execution_count": 7,
   "id": "2a22e9af-2278-41bb-9d6e-28cb44256e05",
   "metadata": {},
   "outputs": [],
   "source": [
    "# True coefficients for logistic link\n",
    "beta = {\n",
    "    'intercept': -5,\n",
    "    'interest_rate': 0.6,\n",
    "    'credit_score': -0.005,\n",
    "    'ltv': 0.04,\n",
    "    'loan_term': -0.1,\n",
    "    'income': 0.00001\n",
    "}\n",
    "\n",
    "log_odds = (\n",
    "    beta['intercept'] +\n",
    "    beta['interest_rate'] * df['interest_rate'] +\n",
    "    beta['credit_score'] * df['credit_score'] +\n",
    "    beta['ltv'] * df['ltv'] +\n",
    "    beta['loan_term'] * df['loan_term'] +\n",
    "    beta['income'] * df['income']\n",
    ")\n",
    "\n",
    "def logistic(x):\n",
    "    return 1 / (1 + np.exp(-x))\n",
    "\n",
    "p = logistic(log_odds)\n",
    "\n",
    "df['prepaid'] = np.random.binomial(1, p)\n",
    "\n",
    "# Features and target\n",
    "X = df[['interest_rate', 'credit_score', 'ltv', 'loan_term', 'income']]\n",
    "y = df['prepaid']"
   ]
  },
  {
   "cell_type": "markdown",
   "id": "d5ed0f01-92a0-412f-99e2-92e16bb8282a",
   "metadata": {},
   "source": [
    "### Trian with ML, XGBoost, Plotting"
   ]
  },
  {
   "cell_type": "code",
   "execution_count": 8,
   "id": "d39e9618-1f43-413a-950b-6d5ec2998750",
   "metadata": {},
   "outputs": [
    {
     "name": "stderr",
     "output_type": "stream",
     "text": [
      "/opt/anaconda3/lib/python3.12/site-packages/xgboost/training.py:183: UserWarning: [16:11:43] WARNING: /Users/runner/work/xgboost/xgboost/src/learner.cc:738: \n",
      "Parameters: { \"use_label_encoder\" } are not used.\n",
      "\n",
      "  bst.update(dtrain, iteration=i, fobj=obj)\n"
     ]
    },
    {
     "name": "stdout",
     "output_type": "stream",
     "text": [
      "Test ROC AUC: 0.7606\n",
      "              precision    recall  f1-score   support\n",
      "\n",
      "           0       0.97      0.99      0.98       291\n",
      "           1       0.33      0.11      0.17         9\n",
      "\n",
      "    accuracy                           0.97       300\n",
      "   macro avg       0.65      0.55      0.57       300\n",
      "weighted avg       0.95      0.97      0.96       300\n",
      "\n"
     ]
    },
    {
     "data": {
      "image/png": "[encoded data removed]",
      "text/plain": [
       "<Figure size 640x480 with 1 Axes>"
      ]
     },
     "metadata": {},
     "output_type": "display_data"
    }
   ],
   "source": [
    "# Split train/test\n",
    "X_train, X_test, y_train, y_test = train_test_split(X, y, test_size=0.3, random_state=42)\n",
    "\n",
    "# Initialize and train XGBoost classifier\n",
    "model = xgb.XGBClassifier(\n",
    "    n_estimators=100,\n",
    "    max_depth=4,\n",
    "    learning_rate=0.1,\n",
    "    use_label_encoder=False,\n",
    "    eval_metric='logloss',\n",
    "    random_state=42\n",
    ")\n",
    "\n",
    "model.fit(X_train, y_train)\n",
    "\n",
    "# Predict probabilities and classes\n",
    "y_pred_proba = model.predict_proba(X_test)[:, 1]\n",
    "y_pred = model.predict(X_test)\n",
    "\n",
    "# Evaluate with ROC AUC\n",
    "auc = roc_auc_score(y_test, y_pred_proba)\n",
    "print(f\"Test ROC AUC: {auc:.4f}\")\n",
    "\n",
    "# Classification report\n",
    "print(classification_report(y_test, y_pred))\n",
    "\n",
    "# Feature importance plot\n",
    "xgb.plot_importance(model)\n",
    "plt.title(\"Feature Importance - XGBoost\")\n",
    "plt.show()\n"
   ]
  },
  {
   "cell_type": "code",
   "execution_count": null,
   "id": "50f4bf37-e610-443b-a0de-c7777691548c",
   "metadata": {},
   "outputs": [],
   "source": []
  }
 ],
 "metadata": {
  "kernelspec": {
   "display_name": "Python 3 (ipykernel)",
   "language": "python",
   "name": "python3"
  },
  "language_info": {
   "codemirror_mode": {
    "name": "ipython",
    "version": 3
   },
   "file_extension": ".py",
   "mimetype": "text/x-python",
   "name": "python",
   "nbconvert_exporter": "python",
   "pygments_lexer": "ipython3",
   "version": "3.12.3"
  }
 },
 "nbformat": 4,
 "nbformat_minor": 5
}
