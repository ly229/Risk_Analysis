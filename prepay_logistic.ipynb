{
 "cells": [
  {
   "cell_type": "code",
   "execution_count": 1,
   "id": "980aac8d-d23c-41d7-b398-2fcfccfcbb6e",
   "metadata": {},
   "outputs": [],
   "source": [
    "import pandas as pd\n",
    "import numpy as np\n",
    "from sklearn.model_selection import train_test_split\n",
    "from sklearn.preprocessing import StandardScaler\n",
    "from sklearn.linear_model import LogisticRegression\n",
    "from sklearn.metrics import roc_auc_score, confusion_matrix, classification_report\n",
    "import statsmodels.api as sm"
   ]
  },
  {
   "cell_type": "code",
   "execution_count": 2,
   "id": "0d8bd940-6a8b-4d59-8f69-8a4859360db4",
   "metadata": {},
   "outputs": [],
   "source": [
    "# Example synthetic data - realistic mortgage features\n",
    "np.random.seed(42)\n",
    "n_samples = 1000\n",
    "df = pd.DataFrame({\n",
    "    'interest_rate': np.random.uniform(2.5, 6.5, n_samples),        # Interest rate %\n",
    "    'credit_score': np.random.normal(700, 50, n_samples),          # Credit score\n",
    "    'ltv': np.random.uniform(60, 100, n_samples),                   # Loan-to-value %\n",
    "    'loan_term': np.random.choice([15, 30], n_samples),             # Term in years\n",
    "    'income': np.random.normal(75000, 15000, n_samples),            # Borrower's income\n",
    "})\n",
    "\n",
    "# Clean unrealistic credit scores and income\n",
    "df['credit_score'] = df['credit_score'].clip(300, 850)\n",
    "df['income'] = df['income'].clip(20000, 200000)"
   ]
  },
  {
   "cell_type": "code",
   "execution_count": 3,
   "id": "585b7891-d628-4b26-be5b-530483842e55",
   "metadata": {},
   "outputs": [],
   "source": [
    "# True coefficients (choose meaningful signs and magnitudes)\n",
    "beta = {\n",
    "    'intercept': -5,\n",
    "    'interest_rate': 0.6,    # Higher rates -> more prepayment\n",
    "    'credit_score': -0.005,  # Higher credit score -> less prepayment\n",
    "    'ltv': 0.04,             # Higher LTV -> more prepayment\n",
    "    'loan_term': -0.1,       # Longer term -> less prepayment\n",
    "    'income': 0.00001        # Higher income -> slightly more prepayment\n",
    "}\n",
    "\n",
    "# Calculate log-odds for prepayment\n",
    "log_odds = (\n",
    "    beta['intercept'] +\n",
    "    beta['interest_rate'] * df['interest_rate'] +\n",
    "    beta['credit_score'] * df['credit_score'] +\n",
    "    beta['ltv'] * df['ltv'] +\n",
    "    beta['loan_term'] * df['loan_term'] +\n",
    "    beta['income'] * df['income']\n",
    ")\n",
    "\n",
    "# Convert to probabilities with logistic function\n",
    "def logistic(x):\n",
    "    return 1 / (1 + np.exp(-x))\n",
    "\n",
    "p = logistic(log_odds)"
   ]
  },
  {
   "cell_type": "code",
   "execution_count": 6,
   "id": "60fc5fe6-1597-49e1-89d6-634e64188729",
   "metadata": {},
   "outputs": [
    {
     "name": "stdout",
     "output_type": "stream",
     "text": [
      "Optimization terminated successfully.\n",
      "         Current function value: 0.102734\n",
      "         Iterations 9\n",
      "                           Logit Regression Results                           \n",
      "==============================================================================\n",
      "Dep. Variable:                prepaid   No. Observations:                 1000\n",
      "Model:                          Logit   Df Residuals:                      994\n",
      "Method:                           MLE   Df Model:                            5\n",
      "Date:                Tue, 27 May 2025   Pseudo R-squ.:                  0.1478\n",
      "Time:                        16:05:49   Log-Likelihood:                -102.73\n",
      "converged:                       True   LL-Null:                       -120.55\n",
      "Covariance Type:            nonrobust   LLR p-value:                 1.126e-06\n",
      "==============================================================================\n",
      "                 coef    std err          z      P>|z|      [0.025      0.975]\n",
      "------------------------------------------------------------------------------\n",
      "const         -4.3910      0.339    -12.970      0.000      -5.055      -3.727\n",
      "x1             0.7593      0.233      3.263      0.001       0.303       1.215\n",
      "x2            -0.0516      0.204     -0.253      0.800      -0.451       0.348\n",
      "x3             0.5510      0.219      2.514      0.012       0.121       0.981\n",
      "x4            -0.9298      0.276     -3.373      0.001      -1.470      -0.389\n",
      "x5             0.1346      0.211      0.639      0.523      -0.278       0.547\n",
      "==============================================================================\n",
      "\n",
      "Odds Ratios and 95% CI:\n",
      "            2.5%     97.5%        OR\n",
      "const  0.006380  0.024054  0.012389\n",
      "x1     1.354303  3.371373  2.136787\n",
      "x2     0.636904  1.416012  0.949665\n",
      "x3     1.129125  2.666086  1.735034\n",
      "x4     0.229901  0.677408  0.394635\n",
      "x5     0.757063  1.728892  1.144063\n"
     ]
    }
   ],
   "source": [
    "# Simulate prepaid outcome depending on features\n",
    "df['prepaid'] = np.random.binomial(1, p)\n",
    "\n",
    "# Prepare features and target\n",
    "X = df[['interest_rate', 'credit_score', 'ltv', 'loan_term', 'income']]\n",
    "y = df['prepaid']\n",
    "\n",
    "# Scale features\n",
    "scaler = StandardScaler()\n",
    "X_scaled = scaler.fit_transform(X)\n",
    "\n",
    "# interal optimization with Maximun Likelihood Estimation\n",
    "# Add intercept for statsmodels\n",
    "X_sm = sm.add_constant(X_scaled)\n",
    "# Fit logistic regression using statsmodels\n",
    "model = sm.Logit(y, X_sm)\n",
    "result = model.fit()\n",
    "\n",
    "print(result.summary())\n",
    "\n",
    "# Odds ratios with confidence intervals\n",
    "params = result.params\n",
    "conf = result.conf_int()\n",
    "\n",
    "#the odds ratio, exp(coef), (OR-1) is the influence ratio\n",
    "conf['OR'] = params \n",
    "\n",
    "conf.columns = ['2.5%', '97.5%', 'OR']\n",
    "print(\"\\nOdds Ratios and 95% CI:\\n\", np.exp(conf))"
   ]
  },
  {
   "cell_type": "code",
   "execution_count": null,
   "id": "adb66e1e-bf5e-4f90-b4f6-f0f80ac1841c",
   "metadata": {},
   "outputs": [],
   "source": []
  }
 ],
 "metadata": {
  "kernelspec": {
   "display_name": "Python 3 (ipykernel)",
   "language": "python",
   "name": "python3"
  },
  "language_info": {
   "codemirror_mode": {
    "name": "ipython",
    "version": 3
   },
   "file_extension": ".py",
   "mimetype": "text/x-python",
   "name": "python",
   "nbconvert_exporter": "python",
   "pygments_lexer": "ipython3",
   "version": "3.12.3"
  }
 },
 "nbformat": 4,
 "nbformat_minor": 5
}
